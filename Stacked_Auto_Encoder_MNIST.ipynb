{
 "cells": [
  {
   "cell_type": "code",
   "execution_count": 36,
   "metadata": {},
   "outputs": [],
   "source": [
    "import numpy as np\n",
    "import tensorflow as tf\n",
    "from tensorflow.examples.tutorials.mnist import input_data\n",
    "import matplotlib.pyplot as plt"
   ]
  },
  {
   "cell_type": "code",
   "execution_count": 37,
   "metadata": {},
   "outputs": [
    {
     "name": "stdout",
     "output_type": "stream",
     "text": [
      "Extracting ./dataset/input_data/train-images-idx3-ubyte.gz\n",
      "Extracting ./dataset/input_data/train-labels-idx1-ubyte.gz\n",
      "Extracting ./dataset/input_data/t10k-images-idx3-ubyte.gz\n",
      "Extracting ./dataset/input_data/t10k-labels-idx1-ubyte.gz\n"
     ]
    }
   ],
   "source": [
    "# Load Dataset\n",
    "mnist = input_data.read_data_sets('./dataset/input_data/', one_hot=True)"
   ]
  },
  {
   "cell_type": "code",
   "execution_count": 38,
   "metadata": {},
   "outputs": [],
   "source": [
    "# Reset Default Graph\n",
    "tf.reset_default_graph()\n",
    "\n"
   ]
  },
  {
   "cell_type": "code",
   "execution_count": 39,
   "metadata": {},
   "outputs": [],
   "source": [
    "\n",
    "\n",
    "#apply stacked auto encoder\n",
    "# 1st Layer: Input Layer\n",
    "n_inputs = 784\n",
    "\n",
    "# 1st Hidden Layer Neurons\n",
    "hidden1 = 392\n",
    "\n",
    "# 2nd Hidden Layer Neurons\n",
    "hidden2 = 196\n",
    "\n",
    "# 3rd Hidden Layer Neurons\n",
    "hidden3 = 392\n",
    "\n",
    "# Output Layer Neurons\n",
    "out = 784\n",
    "#learning rate\n",
    "lr = 0.001"
   ]
  },
  {
   "cell_type": "code",
   "execution_count": 40,
   "metadata": {},
   "outputs": [],
   "source": [
    "activation_fxn = tf.nn.relu"
   ]
  },
  {
   "cell_type": "code",
   "execution_count": 41,
   "metadata": {},
   "outputs": [],
   "source": [
    "def leaky_relu(x, leak=0.2, name=\"lrelu\"):\n",
    "    \"\"\"Leaky rectifier.\n",
    "    Parameters\n",
    "    ----------\n",
    "    x : Tensor\n",
    "        The tensor to apply the nonlinearity to.\n",
    "    leak : float, optional\n",
    "        Leakage parameter.\n",
    "    name : str, optional\n",
    "        Variable scope to use.\n",
    "    Returns\n",
    "    -------\n",
    "    x : Tensor\n",
    "        Output of the nonlinearity.\n",
    "    \"\"\"\n",
    "    with tf.variable_scope(name):\n",
    "        f1 = 0.5 * (1 + leak)\n",
    "        f2 = 0.5 * (1 - leak)\n",
    "        return f1 * x + f2 * abs(x)"
   ]
  },
  {
   "cell_type": "code",
   "execution_count": 42,
   "metadata": {},
   "outputs": [],
   "source": [
    "X = tf.placeholder(tf.float32, shape=[None, n_inputs])"
   ]
  },
  {
   "cell_type": "code",
   "execution_count": 43,
   "metadata": {},
   "outputs": [],
   "source": [
    "# Initialize Weights\n",
    "initializer = tf.variance_scaling_initializer()\n",
    "# Weights for Autoencoder Layers\n",
    "w1 = tf.Variable(initializer([n_inputs,hidden1]), dtype=tf.float32)\n",
    "w2 = tf.Variable(initializer([hidden1,hidden2]), dtype=tf.float32)\n",
    "w3 = tf.Variable(initializer([hidden2,hidden3]), dtype=tf.float32)\n",
    "w4 = tf.Variable(initializer([hidden3,out]), dtype=tf.float32)\n"
   ]
  },
  {
   "cell_type": "code",
   "execution_count": 44,
   "metadata": {},
   "outputs": [],
   "source": [
    "# Initialize Bias\n",
    "b1 = tf.Variable(tf.zeros(hidden1))\n",
    "b2 = tf.Variable(tf.zeros(hidden2))\n",
    "b3 = tf.Variable(tf.zeros(hidden3))\n",
    "b4 = tf.Variable(tf.zeros(out))"
   ]
  },
  {
   "cell_type": "code",
   "execution_count": 45,
   "metadata": {},
   "outputs": [],
   "source": [
    "# Make Hidden Layers\n",
    "hid_layer1 = activation_fxn(tf.matmul(X,w1) + b1)\n",
    "hid_layer2 = activation_fxn(tf.matmul(hid_layer1,w2) + b2)\n",
    "hid_layer3 = activation_fxn(tf.matmul(hid_layer2,w3) + b3)\n",
    "out_layer = activation_fxn(tf.matmul(hid_layer3,w4) + b4)"
   ]
  },
  {
   "cell_type": "code",
   "execution_count": 46,
   "metadata": {},
   "outputs": [],
   "source": [
    "loss = tf.reduce_mean(tf.square(out_layer - X))"
   ]
  },
  {
   "cell_type": "code",
   "execution_count": 47,
   "metadata": {},
   "outputs": [],
   "source": [
    "optimizer = tf.train.AdamOptimizer(lr).minimize(loss)"
   ]
  },
  {
   "cell_type": "code",
   "execution_count": 48,
   "metadata": {},
   "outputs": [],
   "source": [
    "init = tf.global_variables_initializer()\n"
   ]
  },
  {
   "cell_type": "code",
   "execution_count": 49,
   "metadata": {},
   "outputs": [],
   "source": [
    "\n",
    "\n",
    "saver = tf.train.Saver()\n",
    "\n"
   ]
  },
  {
   "cell_type": "code",
   "execution_count": 50,
   "metadata": {},
   "outputs": [
    {
     "name": "stdout",
     "output_type": "stream",
     "text": [
      "EPOCH: 0\t  LOSS: 0.010447485372424126\n",
      "EPOCH: 1\t  LOSS: 0.007638574577867985\n",
      "EPOCH: 2\t  LOSS: 0.007522951811552048\n",
      "EPOCH: 3\t  LOSS: 0.006712491624057293\n",
      "EPOCH: 4\t  LOSS: 0.005896297283470631\n",
      "EPOCH: 5\t  LOSS: 0.005897353403270245\n",
      "EPOCH: 6\t  LOSS: 0.00549041572958231\n",
      "EPOCH: 7\t  LOSS: 0.006313453894108534\n",
      "EPOCH: 8\t  LOSS: 0.005953378044068813\n",
      "EPOCH: 9\t  LOSS: 0.006157069467008114\n",
      "EPOCH: 10\t  LOSS: 0.005871045868843794\n",
      "EPOCH: 11\t  LOSS: 0.005316970404237509\n",
      "EPOCH: 12\t  LOSS: 0.0059906914830207825\n",
      "EPOCH: 13\t  LOSS: 0.005638982634991407\n",
      "EPOCH: 14\t  LOSS: 0.00549703324213624\n",
      "EPOCH: 15\t  LOSS: 0.005625990219414234\n",
      "EPOCH: 16\t  LOSS: 0.005595851689577103\n",
      "EPOCH: 17\t  LOSS: 0.005115837790071964\n",
      "EPOCH: 18\t  LOSS: 0.0055975946597754955\n",
      "EPOCH: 19\t  LOSS: 0.005007156170904636\n",
      "EPOCH: 20\t  LOSS: 0.005479807034134865\n",
      "EPOCH: 21\t  LOSS: 0.005456847138702869\n",
      "EPOCH: 22\t  LOSS: 0.00562385143712163\n",
      "EPOCH: 23\t  LOSS: 0.005042579956352711\n",
      "EPOCH: 24\t  LOSS: 0.004737885668873787\n",
      "EPOCH: 25\t  LOSS: 0.005368316546082497\n",
      "EPOCH: 26\t  LOSS: 0.005572349764406681\n",
      "EPOCH: 27\t  LOSS: 0.005811240989714861\n",
      "EPOCH: 28\t  LOSS: 0.004916988778859377\n",
      "EPOCH: 29\t  LOSS: 0.005867557134479284\n"
     ]
    }
   ],
   "source": [
    "epochs = 30\n",
    "# 20, 150\n",
    "batch_size = 200\n",
    "\n",
    "with tf.Session() as sess:\n",
    "    sess.run(init)\n",
    "    \n",
    "    for e in range(epochs):\n",
    "        n_batches = mnist.train.num_examples // batch_size\n",
    "        \n",
    "        for i in range(n_batches):\n",
    "            X_batch, y_batch = mnist.train.next_batch(batch_size)\n",
    "            sess.run(optimizer, feed_dict={X: X_batch})\n",
    "        \n",
    "        training_loss = loss.eval(feed_dict={X:X_batch})\n",
    "        print('EPOCH: {}\\t  LOSS: {}'.format(e, training_loss))\n",
    "    saver.save(sess,'my_train_model')"
   ]
  },
  {
   "cell_type": "code",
   "execution_count": 52,
   "metadata": {},
   "outputs": [
    {
     "name": "stdout",
     "output_type": "stream",
     "text": [
      "INFO:tensorflow:Restoring parameters from my_train_model\n"
     ]
    }
   ],
   "source": [
    "\n",
    "\n",
    "saver = tf.train.Saver()\n",
    "\n",
    "\n",
    "n_test = 10\n",
    "\n",
    "with tf.Session() as sess:\n",
    "    saver.restore(sess,'my_train_model')\n",
    "    \n",
    "    results = out_layer.eval(feed_dict={X: mnist.test.images[:n_test]})"
   ]
  },
  {
   "cell_type": "code",
   "execution_count": 53,
   "metadata": {},
   "outputs": [
    {
     "data": {
      "image/png": "[encoded data removed]",
      "text/plain": [
       "<Figure size 1440x288 with 20 Axes>"
      ]
     },
     "metadata": {
      "needs_background": "light"
     },
     "output_type": "display_data"
    }
   ],
   "source": [
    "fig, ax = plt.subplots(nrows=2, ncols=10, figsize=(20,4))\n",
    "for i in range(n_test):\n",
    "    ax[0][i].imshow(np.reshape(mnist.test.images[i], (28,28)))\n",
    "    ax[1][i].imshow(np.reshape(results[i],(28,28)))\n",
    "\n"
   ]
  },
  {
   "cell_type": "code",
   "execution_count": 54,
   "metadata": {},
   "outputs": [
    {
     "name": "stdout",
     "output_type": "stream",
     "text": [
      "INFO:tensorflow:Restoring parameters from my_train_model\n"
     ]
    }
   ],
   "source": [
    "n_test = 10\n",
    "\n",
    "with tf.Session() as sess:\n",
    "    saver.restore(sess,'my_train_model')\n",
    "    \n",
    "    results = hid_layer2.eval(feed_dict={X: mnist.test.images[:n_test]})"
   ]
  },
  {
   "cell_type": "code",
   "execution_count": 55,
   "metadata": {},
   "outputs": [
    {
     "data": {
      "image/png": "[encoded data removed]",
      "text/plain": [
       "<Figure size 1440x288 with 20 Axes>"
      ]
     },
     "metadata": {
      "needs_background": "light"
     },
     "output_type": "display_data"
    }
   ],
   "source": [
    "fig, ax = plt.subplots(nrows=2, ncols=10, figsize=(20,4))\n",
    "for i in range(n_test):\n",
    "    ax[0][i].imshow(np.reshape(mnist.test.images[i], (28,28)))\n",
    "    ax[1][i].imshow(np.reshape(results[i],(14,14)))"
   ]
  },
  {
   "cell_type": "code",
   "execution_count": null,
   "metadata": {},
   "outputs": [],
   "source": []
  }
 ],
 "metadata": {
  "kernelspec": {
   "display_name": "Python 3",
   "language": "python",
   "name": "python3"
  },
  "language_info": {
   "codemirror_mode": {
    "name": "ipython",
    "version": 3
   },
   "file_extension": ".py",
   "mimetype": "text/x-python",
   "name": "python",
   "nbconvert_exporter": "python",
   "pygments_lexer": "ipython3",
   "version": "3.7.1"
  }
 },
 "nbformat": 4,
 "nbformat_minor": 2
}
